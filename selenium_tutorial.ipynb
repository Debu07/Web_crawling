{
 "cells": [
  {
   "cell_type": "code",
   "execution_count": 38,
   "metadata": {},
   "outputs": [],
   "source": [
    "from selenium import webdriver"
   ]
  },
  {
   "cell_type": "markdown",
   "metadata": {},
   "source": [
    "#open up a firefox browser and navigate to web page"
   ]
  },
  {
   "cell_type": "code",
   "execution_count": 39,
   "metadata": {},
   "outputs": [],
   "source": [
    "driver=webdriver.Firefox()"
   ]
  },
  {
   "cell_type": "code",
   "execution_count": 40,
   "metadata": {},
   "outputs": [],
   "source": [
    "driver.get(\"http://econpy.pythonanywhere.com/ex/001.html\")"
   ]
  },
  {
   "cell_type": "markdown",
   "metadata": {},
   "source": [
    "#Extract list of buyers and prices (based on xpath for chrome web browser)"
   ]
  },
  {
   "cell_type": "code",
   "execution_count": 41,
   "metadata": {},
   "outputs": [
    {
     "name": "stdout",
     "output_type": "stream",
     "text": [
      "[<selenium.webdriver.firefox.webelement.FirefoxWebElement (session=\"d8d9c9a4-0f4b-4264-87d7-ec9d8cb51000\", element=\"04c994be-c8e1-4dba-bd8e-acf0489948b7\")>, <selenium.webdriver.firefox.webelement.FirefoxWebElement (session=\"d8d9c9a4-0f4b-4264-87d7-ec9d8cb51000\", element=\"5b3bb5d8-2447-40d1-932e-bac06aa41b64\")>, <selenium.webdriver.firefox.webelement.FirefoxWebElement (session=\"d8d9c9a4-0f4b-4264-87d7-ec9d8cb51000\", element=\"c100b138-bf8f-4063-ad8b-efe39fdab9da\")>, <selenium.webdriver.firefox.webelement.FirefoxWebElement (session=\"d8d9c9a4-0f4b-4264-87d7-ec9d8cb51000\", element=\"22abbf0a-04e9-4e69-988a-5bfc19956c7e\")>, <selenium.webdriver.firefox.webelement.FirefoxWebElement (session=\"d8d9c9a4-0f4b-4264-87d7-ec9d8cb51000\", element=\"37be5147-d840-430f-b83b-827201079b0e\")>, <selenium.webdriver.firefox.webelement.FirefoxWebElement (session=\"d8d9c9a4-0f4b-4264-87d7-ec9d8cb51000\", element=\"cc717cbc-7ba4-447c-8d40-7b2fb2bf6057\")>, <selenium.webdriver.firefox.webelement.FirefoxWebElement (session=\"d8d9c9a4-0f4b-4264-87d7-ec9d8cb51000\", element=\"dd49882b-b4b7-482c-9222-834c35502ebe\")>, <selenium.webdriver.firefox.webelement.FirefoxWebElement (session=\"d8d9c9a4-0f4b-4264-87d7-ec9d8cb51000\", element=\"9d067fd8-6901-4885-a5ac-41e870dc56a4\")>, <selenium.webdriver.firefox.webelement.FirefoxWebElement (session=\"d8d9c9a4-0f4b-4264-87d7-ec9d8cb51000\", element=\"fe2a0bd6-7bde-4ad7-842c-dadcd29e85dd\")>, <selenium.webdriver.firefox.webelement.FirefoxWebElement (session=\"d8d9c9a4-0f4b-4264-87d7-ec9d8cb51000\", element=\"1fd616bd-f0a0-4eb4-8320-28e791196d8f\")>, <selenium.webdriver.firefox.webelement.FirefoxWebElement (session=\"d8d9c9a4-0f4b-4264-87d7-ec9d8cb51000\", element=\"3562885f-3a91-42d7-8c44-04e174566c06\")>, <selenium.webdriver.firefox.webelement.FirefoxWebElement (session=\"d8d9c9a4-0f4b-4264-87d7-ec9d8cb51000\", element=\"4f47e535-180a-4e61-a35e-0c9d8abb3349\")>, <selenium.webdriver.firefox.webelement.FirefoxWebElement (session=\"d8d9c9a4-0f4b-4264-87d7-ec9d8cb51000\", element=\"bdc3e865-3773-42fd-a7c7-13d661b49f0d\")>, <selenium.webdriver.firefox.webelement.FirefoxWebElement (session=\"d8d9c9a4-0f4b-4264-87d7-ec9d8cb51000\", element=\"0cec5e97-ee7d-40bf-9e6b-4fe0fdb7ed23\")>, <selenium.webdriver.firefox.webelement.FirefoxWebElement (session=\"d8d9c9a4-0f4b-4264-87d7-ec9d8cb51000\", element=\"b041090b-8128-4cc8-b5eb-4f28f699cdad\")>, <selenium.webdriver.firefox.webelement.FirefoxWebElement (session=\"d8d9c9a4-0f4b-4264-87d7-ec9d8cb51000\", element=\"7f38f4c5-8567-44e3-b031-d46db7b9982a\")>, <selenium.webdriver.firefox.webelement.FirefoxWebElement (session=\"d8d9c9a4-0f4b-4264-87d7-ec9d8cb51000\", element=\"f6457ced-a0a7-4e6d-a2c2-e957212f3c01\")>, <selenium.webdriver.firefox.webelement.FirefoxWebElement (session=\"d8d9c9a4-0f4b-4264-87d7-ec9d8cb51000\", element=\"522a2e10-7676-4df4-84c3-27c3ef6b06b3\")>, <selenium.webdriver.firefox.webelement.FirefoxWebElement (session=\"d8d9c9a4-0f4b-4264-87d7-ec9d8cb51000\", element=\"31a60004-f785-46f2-9550-11f6fc07e706\")>, <selenium.webdriver.firefox.webelement.FirefoxWebElement (session=\"d8d9c9a4-0f4b-4264-87d7-ec9d8cb51000\", element=\"fc994102-48c2-4326-b7a8-a6e468b94ba8\")>]\n"
     ]
    }
   ],
   "source": [
    "buyers=driver.find_elements_by_xpath('//div[@title=\"buyer-name\"]')\n",
    "print(buyers)"
   ]
  },
  {
   "cell_type": "code",
   "execution_count": 42,
   "metadata": {},
   "outputs": [
    {
     "name": "stdout",
     "output_type": "stream",
     "text": [
      "[<selenium.webdriver.firefox.webelement.FirefoxWebElement (session=\"d8d9c9a4-0f4b-4264-87d7-ec9d8cb51000\", element=\"39614fb0-6b1c-4903-9e51-1c57a11582de\")>, <selenium.webdriver.firefox.webelement.FirefoxWebElement (session=\"d8d9c9a4-0f4b-4264-87d7-ec9d8cb51000\", element=\"92772950-a070-4087-a93a-cfb7f4a4a694\")>, <selenium.webdriver.firefox.webelement.FirefoxWebElement (session=\"d8d9c9a4-0f4b-4264-87d7-ec9d8cb51000\", element=\"5d9472a4-15d4-4cff-a90e-94be512b040f\")>, <selenium.webdriver.firefox.webelement.FirefoxWebElement (session=\"d8d9c9a4-0f4b-4264-87d7-ec9d8cb51000\", element=\"51e8b9f2-84bd-4dcc-b973-4ab55464a291\")>, <selenium.webdriver.firefox.webelement.FirefoxWebElement (session=\"d8d9c9a4-0f4b-4264-87d7-ec9d8cb51000\", element=\"9ace5740-8240-426f-824f-5eb4920ccfce\")>, <selenium.webdriver.firefox.webelement.FirefoxWebElement (session=\"d8d9c9a4-0f4b-4264-87d7-ec9d8cb51000\", element=\"93a28568-c9cd-4e41-b186-738a01c1c77d\")>, <selenium.webdriver.firefox.webelement.FirefoxWebElement (session=\"d8d9c9a4-0f4b-4264-87d7-ec9d8cb51000\", element=\"d378c24c-51ff-4a10-b66e-ee44f0379445\")>, <selenium.webdriver.firefox.webelement.FirefoxWebElement (session=\"d8d9c9a4-0f4b-4264-87d7-ec9d8cb51000\", element=\"e4335dde-5792-48e9-b6ba-b04c868ff38e\")>, <selenium.webdriver.firefox.webelement.FirefoxWebElement (session=\"d8d9c9a4-0f4b-4264-87d7-ec9d8cb51000\", element=\"f5125458-01ed-407b-a80e-9f56beafbffa\")>, <selenium.webdriver.firefox.webelement.FirefoxWebElement (session=\"d8d9c9a4-0f4b-4264-87d7-ec9d8cb51000\", element=\"116953b3-fb39-4b2c-ab69-0d7b30a47fac\")>, <selenium.webdriver.firefox.webelement.FirefoxWebElement (session=\"d8d9c9a4-0f4b-4264-87d7-ec9d8cb51000\", element=\"4f7ea1b5-8d1e-49bb-bc1f-ec8e16486089\")>, <selenium.webdriver.firefox.webelement.FirefoxWebElement (session=\"d8d9c9a4-0f4b-4264-87d7-ec9d8cb51000\", element=\"c9c460e5-bcaa-49ec-afe6-5225012aac77\")>, <selenium.webdriver.firefox.webelement.FirefoxWebElement (session=\"d8d9c9a4-0f4b-4264-87d7-ec9d8cb51000\", element=\"1618713e-3a19-4e35-b261-f4a812d24375\")>, <selenium.webdriver.firefox.webelement.FirefoxWebElement (session=\"d8d9c9a4-0f4b-4264-87d7-ec9d8cb51000\", element=\"4b1cc913-a5f4-433f-bd37-a0c4a23d606d\")>, <selenium.webdriver.firefox.webelement.FirefoxWebElement (session=\"d8d9c9a4-0f4b-4264-87d7-ec9d8cb51000\", element=\"c9f0c8e6-ca46-4341-8cd4-e98566444e85\")>, <selenium.webdriver.firefox.webelement.FirefoxWebElement (session=\"d8d9c9a4-0f4b-4264-87d7-ec9d8cb51000\", element=\"792af7a2-d013-40bc-b033-97b4b384e208\")>, <selenium.webdriver.firefox.webelement.FirefoxWebElement (session=\"d8d9c9a4-0f4b-4264-87d7-ec9d8cb51000\", element=\"6c61db75-bb6b-4773-8835-41f35f3bde70\")>, <selenium.webdriver.firefox.webelement.FirefoxWebElement (session=\"d8d9c9a4-0f4b-4264-87d7-ec9d8cb51000\", element=\"f78df798-5ba7-4b4e-98a1-9d3ff173f88a\")>, <selenium.webdriver.firefox.webelement.FirefoxWebElement (session=\"d8d9c9a4-0f4b-4264-87d7-ec9d8cb51000\", element=\"97265637-55cb-4806-baad-72c7ac8f272b\")>, <selenium.webdriver.firefox.webelement.FirefoxWebElement (session=\"d8d9c9a4-0f4b-4264-87d7-ec9d8cb51000\", element=\"3b0fe43c-c472-439a-b940-7ce459f5f949\")>]\n"
     ]
    }
   ],
   "source": [
    "prices=driver.find_elements_by_xpath('//span[@class=\"item-price\"]')\n",
    "print(prices)"
   ]
  },
  {
   "cell_type": "code",
   "execution_count": 43,
   "metadata": {},
   "outputs": [
    {
     "name": "stdout",
     "output_type": "stream",
     "text": [
      "20\n"
     ]
    }
   ],
   "source": [
    "num_page_items=len(buyers)\n",
    "print(num_page_items)"
   ]
  },
  {
   "cell_type": "code",
   "execution_count": 44,
   "metadata": {},
   "outputs": [
    {
     "name": "stdout",
     "output_type": "stream",
     "text": [
      "Carson Busses $29.95\n",
      "Earl E. Byrd $8.37\n",
      "Patty Cakes $15.26\n",
      "Derri Anne Connecticut $19.25\n",
      "Moe Dess $19.25\n",
      "Leda Doggslife $13.99\n",
      "Dan Druff $31.57\n",
      "Al Fresco $8.49\n",
      "Ido Hoe $14.47\n",
      "Howie Kisses $15.86\n",
      "Len Lease $11.11\n",
      "Phil Meup $15.98\n",
      "Ira Pent $16.27\n",
      "Ben D. Rules $7.50\n",
      "Ave Sectomy $50.85\n",
      "Gary Shattire $14.26\n",
      "Bobbi Soks $5.68\n",
      "Sheila Takya $15.00\n",
      "Rose Tattoo $114.07\n",
      "Moe Tell $10.09\n"
     ]
    }
   ],
   "source": [
    "for i in range(num_page_items):\n",
    "    print(buyers[i].text,prices[i].text)"
   ]
  },
  {
   "cell_type": "code",
   "execution_count": 45,
   "metadata": {},
   "outputs": [],
   "source": [
    "driver.close()"
   ]
  },
  {
   "cell_type": "code",
   "execution_count": null,
   "metadata": {},
   "outputs": [],
   "source": []
  }
 ],
 "metadata": {
  "kernelspec": {
   "display_name": "Python 3",
   "language": "python",
   "name": "python3"
  },
  "language_info": {
   "codemirror_mode": {
    "name": "ipython",
    "version": 3
   },
   "file_extension": ".py",
   "mimetype": "text/x-python",
   "name": "python",
   "nbconvert_exporter": "python",
   "pygments_lexer": "ipython3",
   "version": "3.6.8"
  }
 },
 "nbformat": 4,
 "nbformat_minor": 2
}
